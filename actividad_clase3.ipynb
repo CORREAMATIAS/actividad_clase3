{
 "cells": [
  {
   "cell_type": "markdown",
   "metadata": {},
   "source": [
    "# actividad clase 3 \n",
    "## Ejercicios de Datos Complejos\n",
    "## 1. Datos Simples\n",
    "### Crear lista de ciudades "
   ]
  },
  {
   "cell_type": "code",
   "execution_count": 159,
   "metadata": {},
   "outputs": [
    {
     "name": "stdout",
     "output_type": "stream",
     "text": [
      "['Ushuaia', 'Rio Grande']\n"
     ]
    }
   ],
   "source": [
    "listadeciudades=[\"Ushuaia\",\"Rio Grande\"]\n",
    "print(listadeciudades)"
   ]
  },
  {
   "cell_type": "markdown",
   "metadata": {},
   "source": [
    "### Crear diccionario de empleados (nombre, cargo, salario)"
   ]
  },
  {
   "cell_type": "code",
   "execution_count": 160,
   "metadata": {},
   "outputs": [
    {
     "name": "stdout",
     "output_type": "stream",
     "text": [
      "{'nombre': 'pepe grillo', 'cargo': 'conciencia', 'salario': 2}\n"
     ]
    }
   ],
   "source": [
    "diccionarioempleados= { \"empleado1\":{\"nombre\": \"pepe grillo\", \"cargo\": \"conciencia\", \"salario\":2},\n",
    "                        \"empleado2\":{\"nombre\": \"segundo empleado\", \"cargo\": \"cargo 2\", \"salario\":3},\n",
    "                        \"empleado3\":{\"nombre\": \"tercer empleado\", \"cargo\": \"tercer cargo\", \"salario\":4},\n",
    "                      }\n",
    "print(diccionarioempleados[\"empleado1\"])\n",
    "                      "
   ]
  },
  {
   "cell_type": "markdown",
   "metadata": {},
   "source": [
    "### Mostrar cómo acceder a un elemento específico en una lista y en un diccionario.\n",
    "#### para lista vamos a hacer un print al nombre de la lista seguido del indice del elemento al que queremos acceder, en este caso 0\n",
    "#### para diccionario se hace los mismo que para lista en este caso es un diccionario de diccionarios donde cada empleado es un diccionario con los datos de un empleado en particular. En este caso usamos al empleado 3"
   ]
  },
  {
   "cell_type": "code",
   "execution_count": 161,
   "metadata": {},
   "outputs": [
    {
     "name": "stdout",
     "output_type": "stream",
     "text": [
      "Ushuaia\n",
      "{'nombre': 'tercer empleado', 'cargo': 'tercer cargo', 'salario': 4}\n"
     ]
    }
   ],
   "source": [
    "print(listadeciudades[0])\n",
    "print(diccionarioempleados[\"empleado3\"])"
   ]
  },
  {
   "cell_type": "markdown",
   "metadata": {},
   "source": [
    "## Manipulación de Listas y Métodos:\n",
    "### Crea una lista inicial de números enteros."
   ]
  },
  {
   "cell_type": "code",
   "execution_count": 162,
   "metadata": {},
   "outputs": [],
   "source": [
    "listaint=[1,3,54,32]"
   ]
  },
  {
   "cell_type": "markdown",
   "metadata": {},
   "source": [
    "### Utiliza el método .append() para agregar un número al final de la lista."
   ]
  },
  {
   "cell_type": "code",
   "execution_count": 163,
   "metadata": {},
   "outputs": [
    {
     "name": "stdout",
     "output_type": "stream",
     "text": [
      "[1, 3, 54, 32, 0]\n"
     ]
    }
   ],
   "source": [
    "listaint.append(0)\n",
    "print(listaint)"
   ]
  },
  {
   "cell_type": "markdown",
   "metadata": {},
   "source": [
    "### Utiliza el método .extend() para agregar múltiples elementos a la lista."
   ]
  },
  {
   "cell_type": "code",
   "execution_count": 164,
   "metadata": {},
   "outputs": [
    {
     "name": "stdout",
     "output_type": "stream",
     "text": [
      "[1, 3, 54, 32, 0, 333, 32, 31, 22]\n"
     ]
    }
   ],
   "source": [
    "listaint.extend([333,32,31,22])\n",
    "print(listaint)"
   ]
  },
  {
   "cell_type": "markdown",
   "metadata": {},
   "source": [
    "### Utiliza el método .insert() para insertar un número en una posición específica de la lista. necesitamos dos argumentos el primero corresponde a la posicion de la lista y el segundo al elemento a insertar\n"
   ]
  },
  {
   "cell_type": "code",
   "execution_count": 165,
   "metadata": {},
   "outputs": [
    {
     "name": "stdout",
     "output_type": "stream",
     "text": [
      "[888, 1, 3, 54, 32, 0, 333, 32, 31, 22]\n"
     ]
    }
   ],
   "source": [
    "listaint.insert(0,888)\n",
    "print(listaint)"
   ]
  },
  {
   "cell_type": "markdown",
   "metadata": {},
   "source": [
    "### Muestra cómo utilizar el método .sort() para ordenar la lista de números de forma ascendente.\n"
   ]
  },
  {
   "cell_type": "code",
   "execution_count": 166,
   "metadata": {},
   "outputs": [
    {
     "name": "stdout",
     "output_type": "stream",
     "text": [
      "[0, 1, 3, 22, 31, 32, 32, 54, 333, 888]\n"
     ]
    }
   ],
   "source": [
    "listaint.sort()\n",
    "print(listaint)"
   ]
  },
  {
   "cell_type": "markdown",
   "metadata": {},
   "source": [
    "##  Manipulación de Diccionarios y Métodos:\n",
    "### Crea un diccionario con información de productos (nombre del producto, precio, cantidad en stock).\n",
    "En este caso lo pensamos como un diccionario de diccionarios donde el diccionarios productos contiene diccionarios carrito y teclado y esos diccionarios contienen el precio y el stock. \n",
    "\n"
   ]
  },
  {
   "cell_type": "code",
   "execution_count": 180,
   "metadata": {},
   "outputs": [
    {
     "name": "stdout",
     "output_type": "stream",
     "text": [
      "{'carrito': {'precio': 3, 'cantidad en stock': 9}, 'teclado': {'precio': 45, 'cantidad en stock': 3}}\n"
     ]
    }
   ],
   "source": [
    "productos={\"carrito\":{\"precio\": 3, \"cantidad en stock\": 9},\n",
    "           \"teclado\":{\"precio\": 45, \"cantidad en stock\": 3}\n",
    "            }\n",
    "print(productos)\n",
    "\n"
   ]
  },
  {
   "cell_type": "markdown",
   "metadata": {},
   "source": [
    "### Utiliza el método .keys() para obtener una lista de las llaves (nombres de productos) en el diccionario.\n"
   ]
  },
  {
   "cell_type": "code",
   "execution_count": 182,
   "metadata": {},
   "outputs": [
    {
     "name": "stdout",
     "output_type": "stream",
     "text": [
      "dict_keys(['carrito', 'teclado'])\n"
     ]
    }
   ],
   "source": [
    "print(productos.keys())"
   ]
  },
  {
   "cell_type": "markdown",
   "metadata": {},
   "source": [
    "### Utiliza el método .values() para obtener una lista de los valores (precios y cantidades) en el diccionario."
   ]
  },
  {
   "cell_type": "code",
   "execution_count": 183,
   "metadata": {},
   "outputs": [
    {
     "name": "stdout",
     "output_type": "stream",
     "text": [
      "dict_values([{'precio': 3, 'cantidad en stock': 9}, {'precio': 45, 'cantidad en stock': 3}])\n"
     ]
    }
   ],
   "source": [
    "print(productos.values())"
   ]
  },
  {
   "cell_type": "markdown",
   "metadata": {},
   "source": [
    "### Utiliza el método .items() para obtener una lista de tuplas con pares clave-valor del diccionario."
   ]
  },
  {
   "cell_type": "code",
   "execution_count": 187,
   "metadata": {},
   "outputs": [
    {
     "name": "stdout",
     "output_type": "stream",
     "text": [
      "dict_items([('carrito', {'precio': 3, 'cantidad en stock': 9}), ('teclado', {'precio': 45, 'cantidad en stock': 3})])\n"
     ]
    }
   ],
   "source": [
    "\n",
    "print(productos.items())"
   ]
  },
  {
   "cell_type": "markdown",
   "metadata": {},
   "source": [
    "### Muestra cómo utilizar el método .get() para obtener el precio de un producto específico del diccionario.\n",
    "para este caso vamos a obtener el precio del producto carrito. \n"
   ]
  },
  {
   "cell_type": "code",
   "execution_count": 188,
   "metadata": {},
   "outputs": [
    {
     "name": "stdout",
     "output_type": "stream",
     "text": [
      "3\n"
     ]
    }
   ],
   "source": [
    "print(productos.get(\"carrito\", {}).get(\"precio\"))"
   ]
  },
  {
   "cell_type": "markdown",
   "metadata": {},
   "source": [
    "## Datos Complejos\n",
    "### Crear una lista de diccionarios que represente información de libros (título, autor, año de publicación)."
   ]
  },
  {
   "cell_type": "code",
   "execution_count": 193,
   "metadata": {},
   "outputs": [
    {
     "name": "stdout",
     "output_type": "stream",
     "text": [
      "[{'titulo': 'libro1', 'autor': 'loco', 'año de publicacion': 343}, {'titulo': 'libro2', 'autor': 'loca', 'año de publicacion': 3443}, {'titulo': 'libro3', 'autor': 'otroloco', 'año de publicacion': 43}]\n"
     ]
    }
   ],
   "source": [
    "libros=[{\"titulo\":\"libro1\", \"autor\":\"loco\",\"año de publicacion\":343},\n",
    "        {\"titulo\":\"libro2\", \"autor\":\"loca\",\"año de publicacion\":3443},\n",
    "        {\"titulo\":\"libro3\", \"autor\":\"otroloco\",\"año de publicacion\":43},\n",
    "        ]\n",
    "print(libros)"
   ]
  },
  {
   "cell_type": "markdown",
   "metadata": {},
   "source": [
    "### Crear un diccionario que contenga listas como valores (por ejemplo, un diccionario de estudiantes y sus materias)."
   ]
  }
 ],
 "metadata": {
  "kernelspec": {
   "display_name": "Python 3",
   "language": "python",
   "name": "python3"
  },
  "language_info": {
   "codemirror_mode": {
    "name": "ipython",
    "version": 3
   },
   "file_extension": ".py",
   "mimetype": "text/x-python",
   "name": "python",
   "nbconvert_exporter": "python",
   "pygments_lexer": "ipython3",
   "version": "3.11.5"
  }
 },
 "nbformat": 4,
 "nbformat_minor": 2
}
