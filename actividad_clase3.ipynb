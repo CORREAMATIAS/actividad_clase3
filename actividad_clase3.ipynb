{
 "cells": [
  {
   "cell_type": "markdown",
   "metadata": {},
   "source": [
    "#actividad clase 3 \n",
    "##Ejercicios de Datos Complejos\n",
    "###Crear lista de ciudades "
   ]
  },
  {
   "cell_type": "code",
   "execution_count": 42,
   "metadata": {},
   "outputs": [
    {
     "name": "stdout",
     "output_type": "stream",
     "text": [
      "['Ushuaia', 'Rio Grande']\n"
     ]
    }
   ],
   "source": [
    "listadeciudades=[\"Ushuaia\",\"Rio Grande\"]\n",
    "print(listadeciudades)"
   ]
  },
  {
   "cell_type": "markdown",
   "metadata": {},
   "source": [
    "###Crear diccionario de empleados (nombre, cargo, salario)"
   ]
  },
  {
   "cell_type": "code",
   "execution_count": 43,
   "metadata": {},
   "outputs": [
    {
     "name": "stdout",
     "output_type": "stream",
     "text": [
      "{'nombre': 'pepe grillo', 'cargo': 'conciencia', 'salario': 2}\n"
     ]
    }
   ],
   "source": [
    "diccionarioempleados= { \"empleado1\":{\"nombre\": \"pepe grillo\", \"cargo\": \"conciencia\", \"salario\":2},\n",
    "                        \"empleado2\":{\"nombre\": \"segundo empleado\", \"cargo\": \"cargo 2\", \"salario\":3},\n",
    "                        \"empleado3\":{\"nombre\": \"tercer empleado\", \"cargo\": \"tercer cargo\", \"salario\":4},\n",
    "                      }\n",
    "print(diccionarioempleados[\"empleado1\"])\n",
    "                      "
   ]
  },
  {
   "cell_type": "markdown",
   "metadata": {},
   "source": [
    "###"
   ]
  }
 ],
 "metadata": {
  "kernelspec": {
   "display_name": "Python 3",
   "language": "python",
   "name": "python3"
  },
  "language_info": {
   "codemirror_mode": {
    "name": "ipython",
    "version": 3
   },
   "file_extension": ".py",
   "mimetype": "text/x-python",
   "name": "python",
   "nbconvert_exporter": "python",
   "pygments_lexer": "ipython3",
   "version": "3.11.5"
  }
 },
 "nbformat": 4,
 "nbformat_minor": 2
}
